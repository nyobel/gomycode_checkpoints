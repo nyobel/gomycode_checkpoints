{
 "cells": [
  {
   "cell_type": "code",
   "execution_count": 2,
   "metadata": {},
   "outputs": [],
   "source": [
    "import numpy as np"
   ]
  },
  {
   "cell_type": "code",
   "execution_count": 1,
   "metadata": {},
   "outputs": [],
   "source": [
    "file = open(\"Loan_prediction_dataset.csv\", \"r\")"
   ]
  },
  {
   "cell_type": "code",
   "execution_count": 4,
   "metadata": {},
   "outputs": [],
   "source": [
    "# read in the data using np.genfromtxt\n",
    "data = np.genfromtxt(file, delimiter=',')"
   ]
  },
  {
   "cell_type": "code",
   "execution_count": 5,
   "metadata": {},
   "outputs": [],
   "source": [
    "file.close()"
   ]
  },
  {
   "cell_type": "code",
   "execution_count": 7,
   "metadata": {},
   "outputs": [],
   "source": [
    "# extract the loan amounts from the 9th cloumn\n",
    "loan_amounts = data[:, 8]"
   ]
  },
  {
   "cell_type": "code",
   "execution_count": 8,
   "metadata": {},
   "outputs": [
    {
     "name": "stdout",
     "output_type": "stream",
     "text": [
      "Mean loan amount: nan\n"
     ]
    }
   ],
   "source": [
    "# calculate basic statistics on loan amounts\n",
    "mean_loan = np.mean(loan_amounts)\n",
    "print(f\"Mean loan amount: {mean_loan}\")"
   ]
  },
  {
   "cell_type": "code",
   "execution_count": 10,
   "metadata": {},
   "outputs": [
    {
     "name": "stdout",
     "output_type": "stream",
     "text": [
      "Median loan amount: nan\n"
     ]
    }
   ],
   "source": [
    "median_loan = np.median(loan_amounts)\n",
    "print(f\"Median loan amount: {median_loan}\")"
   ]
  },
  {
   "cell_type": "code",
   "execution_count": 11,
   "metadata": {},
   "outputs": [
    {
     "name": "stdout",
     "output_type": "stream",
     "text": [
      "Std loan amount: nan\n"
     ]
    }
   ],
   "source": [
    "std_loan = np.std(loan_amounts)\n",
    "print(f\"Std loan amount: {std_loan}\")"
   ]
  },
  {
   "cell_type": "code",
   "execution_count": 12,
   "metadata": {},
   "outputs": [
    {
     "name": "stdout",
     "output_type": "stream",
     "text": [
      "Number of NaN values in loan_amounts: 23\n"
     ]
    }
   ],
   "source": [
    "# Check how many NaNs are in the loan_amounts column\n",
    "nan_count = np.count_nonzero(np.isnan(loan_amounts))\n",
    "print(\"Number of NaN values in loan_amounts:\", nan_count)"
   ]
  },
  {
   "cell_type": "code",
   "execution_count": 13,
   "metadata": {},
   "outputs": [],
   "source": [
    "#calculating statistics ignoring Nans\n",
    "mean_loan = np.nanmean(loan_amounts)\n",
    "median_loan = np.nanmedian(loan_amounts)\n",
    "std_loan = np.nanstd(loan_amounts)"
   ]
  },
  {
   "cell_type": "code",
   "execution_count": 15,
   "metadata": {},
   "outputs": [
    {
     "name": "stdout",
     "output_type": "stream",
     "text": [
      "Mean(ignoring Nan): 146.41216216216216\n",
      "Median(ignoring Nan): 128.0\n",
      "Std(ignoring Nan): 85.51500809120331\n"
     ]
    }
   ],
   "source": [
    "print(f\"Mean(ignoring Nan): {mean_loan}\")\n",
    "print(f\"Median(ignoring Nan): {median_loan}\")\n",
    "print(f\"Std(ignoring Nan): {std_loan}\")"
   ]
  }
 ],
 "metadata": {
  "kernelspec": {
   "display_name": "Python 3",
   "language": "python",
   "name": "python3"
  },
  "language_info": {
   "codemirror_mode": {
    "name": "ipython",
    "version": 3
   },
   "file_extension": ".py",
   "mimetype": "text/x-python",
   "name": "python",
   "nbconvert_exporter": "python",
   "pygments_lexer": "ipython3",
   "version": "3.12.4"
  }
 },
 "nbformat": 4,
 "nbformat_minor": 2
}
