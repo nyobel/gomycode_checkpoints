{
 "cells": [
  {
   "cell_type": "code",
   "execution_count": 16,
   "metadata": {},
   "outputs": [],
   "source": [
    "import pandas as pd\n",
    "import requests\n",
    "from IPython.display import Image, display # for image display\n",
    "\n",
    "from datetime import datetime, timedelta"
   ]
  },
  {
   "cell_type": "markdown",
   "metadata": {},
   "source": [
    "`Astronomy Picture of the Day.`"
   ]
  },
  {
   "cell_type": "code",
   "execution_count": 13,
   "metadata": {},
   "outputs": [],
   "source": [
    "# api setup\n",
    "apod_url = \"https://api.nasa.gov/planetary/apod\"\n",
    "api_key = \"CM6wHdwExkYi0ib5n6FaMiah9hf0jSfqR8GbptC4\""
   ]
  },
  {
   "cell_type": "code",
   "execution_count": null,
   "metadata": {},
   "outputs": [],
   "source": [
    "# parsing the json response\n",
    "response = requests.get(apod_url, params={'api_key': api_key})\n",
    "apod_data = response.json()"
   ]
  },
  {
   "cell_type": "code",
   "execution_count": 34,
   "metadata": {},
   "outputs": [
    {
     "data": {
      "text/plain": [
       "{'copyright': 'Jiang Wu',\n",
       " 'date': '2025-04-04',\n",
       " 'explanation': 'Scanning the skies for galaxies, Canadian astronomer Paul Hickson and colleagues identified some 100 compact groups of galaxies, now appropriately called Hickson Compact Groups. The four prominent galaxies seen in this intriguing telescopic skyscape are one such group, Hickson 44. The galaxy group is about 100 million light-years distant, far beyond the spiky foreground Milky Way stars, toward the constellation Leo. The two spiral galaxies in the center of the image are edge-on NGC 3190 with its distinctive, warped dust lanes, and S-shaped NGC 3187. Along with the bright elliptical, NGC 3193 (above and left) they are also known as Arp 316. The spiral toward the lower right corner is NGC 3185, the 4th member of the Hickson group. Like other galaxies in Hickson groups, these show signs of distortion and enhanced star formation, evidence of a gravitational tug of war that will eventually result in galaxy mergers on a cosmic timescale. The merger process is now understood to be a normal part of the evolution of galaxies, including our own Milky Way. For scale, NGC 3190 is about 75,000 light-years across at the estimated distance of Hickson 44.',\n",
       " 'hdurl': 'https://apod.nasa.gov/apod/image/2504/ARP316.jpg',\n",
       " 'media_type': 'image',\n",
       " 'service_version': 'v1',\n",
       " 'title': 'Hickson 44 in Leo',\n",
       " 'url': 'https://apod.nasa.gov/apod/image/2504/ARP316_1024.jpg'}"
      ]
     },
     "execution_count": 34,
     "metadata": {},
     "output_type": "execute_result"
    }
   ],
   "source": [
    "apod_data"
   ]
  },
  {
   "cell_type": "code",
   "execution_count": 15,
   "metadata": {},
   "outputs": [
    {
     "data": {
      "text/html": [
       "<img src=\"https://apod.nasa.gov/apod/image/2504/ARP316_1024.jpg\"/>"
      ],
      "text/plain": [
       "<IPython.core.display.Image object>"
      ]
     },
     "metadata": {},
     "output_type": "display_data"
    }
   ],
   "source": [
    "# Display the image in Jupyter Notebook\n",
    "display(Image(url=apod_data['url']))"
   ]
  },
  {
   "cell_type": "markdown",
   "metadata": {},
   "source": [
    "`Asteroids Near Earth Object Web Service`(NeoWs)"
   ]
  },
  {
   "cell_type": "code",
   "execution_count": 17,
   "metadata": {},
   "outputs": [],
   "source": [
    "# api setup\n",
    "today = datetime.now().strftime('%Y-%m-%d')\n",
    "neows_url = \"https://api.nasa.gov/neo/rest/v1/feed\""
   ]
  },
  {
   "cell_type": "code",
   "execution_count": 18,
   "metadata": {},
   "outputs": [],
   "source": [
    "# sending the get method\n",
    "response = requests.get(neows_url, params={\n",
    "    'api_key': api_key,\n",
    "    'start_date': today,\n",
    "    'end_date': today\n",
    "})"
   ]
  },
  {
   "cell_type": "code",
   "execution_count": 19,
   "metadata": {},
   "outputs": [],
   "source": [
    "# parse the json response\n",
    "neo_data = response.json()"
   ]
  },
  {
   "cell_type": "code",
   "execution_count": 26,
   "metadata": {},
   "outputs": [],
   "source": [
    "# process the nested json data\n",
    "asteroids = []\n",
    "\n",
    "for date in neo_data['near_earth_objects']:\n",
    "    for asteroid in neo_data['near_earth_objects'][date]:\n",
    "        asteroids.append({\n",
    "            'id': asteroid['id'],\n",
    "            'name': asteroid['name'],\n",
    "            'min_diameter_km': asteroid['estimated_diameter']['kilometers']['estimated_diameter_min'],\n",
    "            'absolute_magnitude': asteroid['absolute_magnitude_h'],\n",
    "            'relative_velocity(km/s)': asteroid['close_approach_data'][0]['relative_velocity']['kilometers_per_second']\n",
    "        })"
   ]
  },
  {
   "cell_type": "code",
   "execution_count": 29,
   "metadata": {},
   "outputs": [
    {
     "data": {
      "text/html": [
       "<div>\n",
       "<style scoped>\n",
       "    .dataframe tbody tr th:only-of-type {\n",
       "        vertical-align: middle;\n",
       "    }\n",
       "\n",
       "    .dataframe tbody tr th {\n",
       "        vertical-align: top;\n",
       "    }\n",
       "\n",
       "    .dataframe thead th {\n",
       "        text-align: right;\n",
       "    }\n",
       "</style>\n",
       "<table border=\"1\" class=\"dataframe\">\n",
       "  <thead>\n",
       "    <tr style=\"text-align: right;\">\n",
       "      <th></th>\n",
       "      <th>id</th>\n",
       "      <th>name</th>\n",
       "      <th>min_diameter_km</th>\n",
       "      <th>absolute_magnitude</th>\n",
       "      <th>relative_velocity(km/s)</th>\n",
       "    </tr>\n",
       "  </thead>\n",
       "  <tbody>\n",
       "    <tr>\n",
       "      <th>0</th>\n",
       "      <td>3177230</td>\n",
       "      <td>(2004 FC18)</td>\n",
       "      <td>0.035039</td>\n",
       "      <td>24.4</td>\n",
       "      <td>18.4545978029</td>\n",
       "    </tr>\n",
       "    <tr>\n",
       "      <th>1</th>\n",
       "      <td>3667048</td>\n",
       "      <td>(2014 GQ17)</td>\n",
       "      <td>0.010105</td>\n",
       "      <td>27.1</td>\n",
       "      <td>13.6984760297</td>\n",
       "    </tr>\n",
       "    <tr>\n",
       "      <th>2</th>\n",
       "      <td>3772997</td>\n",
       "      <td>(2017 FA102)</td>\n",
       "      <td>0.021113</td>\n",
       "      <td>25.5</td>\n",
       "      <td>15.1551768302</td>\n",
       "    </tr>\n",
       "    <tr>\n",
       "      <th>3</th>\n",
       "      <td>3989396</td>\n",
       "      <td>(2020 CE)</td>\n",
       "      <td>0.026580</td>\n",
       "      <td>25.0</td>\n",
       "      <td>13.037846748</td>\n",
       "    </tr>\n",
       "    <tr>\n",
       "      <th>4</th>\n",
       "      <td>54016353</td>\n",
       "      <td>(2020 FH4)</td>\n",
       "      <td>0.005553</td>\n",
       "      <td>28.4</td>\n",
       "      <td>2.9971164592</td>\n",
       "    </tr>\n",
       "  </tbody>\n",
       "</table>\n",
       "</div>"
      ],
      "text/plain": [
       "         id          name  min_diameter_km  absolute_magnitude  \\\n",
       "0   3177230   (2004 FC18)         0.035039                24.4   \n",
       "1   3667048   (2014 GQ17)         0.010105                27.1   \n",
       "2   3772997  (2017 FA102)         0.021113                25.5   \n",
       "3   3989396     (2020 CE)         0.026580                25.0   \n",
       "4  54016353    (2020 FH4)         0.005553                28.4   \n",
       "\n",
       "  relative_velocity(km/s)  \n",
       "0           18.4545978029  \n",
       "1           13.6984760297  \n",
       "2           15.1551768302  \n",
       "3            13.037846748  \n",
       "4            2.9971164592  "
      ]
     },
     "execution_count": 29,
     "metadata": {},
     "output_type": "execute_result"
    }
   ],
   "source": [
    "# create a dataframe\n",
    "df = pd.DataFrame(asteroids)\n",
    "df.head()"
   ]
  },
  {
   "cell_type": "code",
   "execution_count": null,
   "metadata": {},
   "outputs": [],
   "source": [
    "# clean column names\n",
    "df.columns = [\n",
    "    'Asteroid ID',\n",
    "    'Asteroid name',\n",
    "    'The Minimal estimated diameter in Kilometer',\n",
    "    'Absolute_magnitude',\n",
    "    'Relative_velocity(km/s)'\n",
    "]"
   ]
  },
  {
   "cell_type": "code",
   "execution_count": 31,
   "metadata": {},
   "outputs": [],
   "source": [
    "# export to csv\n",
    "df.to_csv('nasa_asteroids.csv', index=False)"
   ]
  },
  {
   "cell_type": "code",
   "execution_count": 33,
   "metadata": {},
   "outputs": [
    {
     "data": {
      "text/html": [
       "<div>\n",
       "<style scoped>\n",
       "    .dataframe tbody tr th:only-of-type {\n",
       "        vertical-align: middle;\n",
       "    }\n",
       "\n",
       "    .dataframe tbody tr th {\n",
       "        vertical-align: top;\n",
       "    }\n",
       "\n",
       "    .dataframe thead th {\n",
       "        text-align: right;\n",
       "    }\n",
       "</style>\n",
       "<table border=\"1\" class=\"dataframe\">\n",
       "  <thead>\n",
       "    <tr style=\"text-align: right;\">\n",
       "      <th></th>\n",
       "      <th>Asteroid ID</th>\n",
       "      <th>Asteroid name</th>\n",
       "      <th>The Minimal estimated diameter in Kilometer</th>\n",
       "      <th>Absolute_magnitude</th>\n",
       "      <th>Relative_velocity(km/s)</th>\n",
       "    </tr>\n",
       "  </thead>\n",
       "  <tbody>\n",
       "    <tr>\n",
       "      <th>0</th>\n",
       "      <td>3177230</td>\n",
       "      <td>(2004 FC18)</td>\n",
       "      <td>0.035039</td>\n",
       "      <td>24.40</td>\n",
       "      <td>18.4545978029</td>\n",
       "    </tr>\n",
       "    <tr>\n",
       "      <th>1</th>\n",
       "      <td>3667048</td>\n",
       "      <td>(2014 GQ17)</td>\n",
       "      <td>0.010105</td>\n",
       "      <td>27.10</td>\n",
       "      <td>13.6984760297</td>\n",
       "    </tr>\n",
       "    <tr>\n",
       "      <th>2</th>\n",
       "      <td>3772997</td>\n",
       "      <td>(2017 FA102)</td>\n",
       "      <td>0.021113</td>\n",
       "      <td>25.50</td>\n",
       "      <td>15.1551768302</td>\n",
       "    </tr>\n",
       "    <tr>\n",
       "      <th>3</th>\n",
       "      <td>3989396</td>\n",
       "      <td>(2020 CE)</td>\n",
       "      <td>0.026580</td>\n",
       "      <td>25.00</td>\n",
       "      <td>13.037846748</td>\n",
       "    </tr>\n",
       "    <tr>\n",
       "      <th>4</th>\n",
       "      <td>54016353</td>\n",
       "      <td>(2020 FH4)</td>\n",
       "      <td>0.005553</td>\n",
       "      <td>28.40</td>\n",
       "      <td>2.9971164592</td>\n",
       "    </tr>\n",
       "    <tr>\n",
       "      <th>5</th>\n",
       "      <td>54099598</td>\n",
       "      <td>(2020 XT2)</td>\n",
       "      <td>0.030942</td>\n",
       "      <td>24.67</td>\n",
       "      <td>6.1679936154</td>\n",
       "    </tr>\n",
       "    <tr>\n",
       "      <th>6</th>\n",
       "      <td>54354397</td>\n",
       "      <td>(2023 GC2)</td>\n",
       "      <td>0.009259</td>\n",
       "      <td>27.29</td>\n",
       "      <td>6.2512111713</td>\n",
       "    </tr>\n",
       "    <tr>\n",
       "      <th>7</th>\n",
       "      <td>54354673</td>\n",
       "      <td>(2023 HR1)</td>\n",
       "      <td>0.015155</td>\n",
       "      <td>26.22</td>\n",
       "      <td>27.4695236212</td>\n",
       "    </tr>\n",
       "    <tr>\n",
       "      <th>8</th>\n",
       "      <td>54392414</td>\n",
       "      <td>(2023 TH4)</td>\n",
       "      <td>0.010437</td>\n",
       "      <td>27.03</td>\n",
       "      <td>17.0300254997</td>\n",
       "    </tr>\n",
       "    <tr>\n",
       "      <th>9</th>\n",
       "      <td>54434763</td>\n",
       "      <td>(2024 HA)</td>\n",
       "      <td>0.001176</td>\n",
       "      <td>31.77</td>\n",
       "      <td>11.8580568043</td>\n",
       "    </tr>\n",
       "  </tbody>\n",
       "</table>\n",
       "</div>"
      ],
      "text/plain": [
       "  Asteroid ID Asteroid name  The Minimal estimated diameter in Kilometer  \\\n",
       "0     3177230   (2004 FC18)                                     0.035039   \n",
       "1     3667048   (2014 GQ17)                                     0.010105   \n",
       "2     3772997  (2017 FA102)                                     0.021113   \n",
       "3     3989396     (2020 CE)                                     0.026580   \n",
       "4    54016353    (2020 FH4)                                     0.005553   \n",
       "5    54099598    (2020 XT2)                                     0.030942   \n",
       "6    54354397    (2023 GC2)                                     0.009259   \n",
       "7    54354673    (2023 HR1)                                     0.015155   \n",
       "8    54392414    (2023 TH4)                                     0.010437   \n",
       "9    54434763     (2024 HA)                                     0.001176   \n",
       "\n",
       "   Absolute_magnitude Relative_velocity(km/s)  \n",
       "0               24.40           18.4545978029  \n",
       "1               27.10           13.6984760297  \n",
       "2               25.50           15.1551768302  \n",
       "3               25.00            13.037846748  \n",
       "4               28.40            2.9971164592  \n",
       "5               24.67            6.1679936154  \n",
       "6               27.29            6.2512111713  \n",
       "7               26.22           27.4695236212  \n",
       "8               27.03           17.0300254997  \n",
       "9               31.77           11.8580568043  "
      ]
     },
     "execution_count": 33,
     "metadata": {},
     "output_type": "execute_result"
    }
   ],
   "source": [
    "df.head(10)"
   ]
  }
 ],
 "metadata": {
  "kernelspec": {
   "display_name": "Python 3",
   "language": "python",
   "name": "python3"
  },
  "language_info": {
   "codemirror_mode": {
    "name": "ipython",
    "version": 3
   },
   "file_extension": ".py",
   "mimetype": "text/x-python",
   "name": "python",
   "nbconvert_exporter": "python",
   "pygments_lexer": "ipython3",
   "version": "3.12.4"
  }
 },
 "nbformat": 4,
 "nbformat_minor": 2
}
